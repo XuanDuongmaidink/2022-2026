{
  "cells": [
    {
      "cell_type": "code",
      "source": [
        "!pip install torchmetrics"
      ],
      "metadata": {
        "id": "tX8Z3bjPYU9X",
        "outputId": "1a38fa65-bcd9-4963-ed37-77a36f69a6d0",
        "colab": {
          "base_uri": "https://localhost:8080/"
        }
      },
      "execution_count": 45,
      "outputs": [
        {
          "output_type": "stream",
          "name": "stdout",
          "text": [
            "Requirement already satisfied: torchmetrics in /usr/local/lib/python3.10/dist-packages (1.5.2)\n",
            "Requirement already satisfied: numpy>1.20.0 in /usr/local/lib/python3.10/dist-packages (from torchmetrics) (1.26.4)\n",
            "Requirement already satisfied: packaging>17.1 in /usr/local/lib/python3.10/dist-packages (from torchmetrics) (24.1)\n",
            "Requirement already satisfied: torch>=1.10.0 in /usr/local/lib/python3.10/dist-packages (from torchmetrics) (2.5.0+cu121)\n",
            "Requirement already satisfied: lightning-utilities>=0.8.0 in /usr/local/lib/python3.10/dist-packages (from torchmetrics) (0.11.8)\n",
            "Requirement already satisfied: setuptools in /usr/local/lib/python3.10/dist-packages (from lightning-utilities>=0.8.0->torchmetrics) (75.1.0)\n",
            "Requirement already satisfied: typing-extensions in /usr/local/lib/python3.10/dist-packages (from lightning-utilities>=0.8.0->torchmetrics) (4.12.2)\n",
            "Requirement already satisfied: filelock in /usr/local/lib/python3.10/dist-packages (from torch>=1.10.0->torchmetrics) (3.16.1)\n",
            "Requirement already satisfied: networkx in /usr/local/lib/python3.10/dist-packages (from torch>=1.10.0->torchmetrics) (3.4.2)\n",
            "Requirement already satisfied: jinja2 in /usr/local/lib/python3.10/dist-packages (from torch>=1.10.0->torchmetrics) (3.1.4)\n",
            "Requirement already satisfied: fsspec in /usr/local/lib/python3.10/dist-packages (from torch>=1.10.0->torchmetrics) (2024.10.0)\n",
            "Requirement already satisfied: sympy==1.13.1 in /usr/local/lib/python3.10/dist-packages (from torch>=1.10.0->torchmetrics) (1.13.1)\n",
            "Requirement already satisfied: mpmath<1.4,>=1.1.0 in /usr/local/lib/python3.10/dist-packages (from sympy==1.13.1->torch>=1.10.0->torchmetrics) (1.3.0)\n",
            "Requirement already satisfied: MarkupSafe>=2.0 in /usr/local/lib/python3.10/dist-packages (from jinja2->torch>=1.10.0->torchmetrics) (3.0.2)\n"
          ]
        }
      ]
    },
    {
      "cell_type": "code",
      "source": [
        "import numpy as np\n",
        "import torch\n",
        "from torch import nn\n",
        "from torch.utils.data import Dataset, DataLoader\n",
        "from torchmetrics import Accuracy, Precision, Recall, F1Score\n",
        "from tqdm import tqdm\n",
        "from sklearn.metrics import classification_report\n",
        "import random\n",
        "import matplotlib.pyplot as plt"
      ],
      "metadata": {
        "id": "-7-woLwuG-o4"
      },
      "execution_count": 46,
      "outputs": []
    },
    {
      "cell_type": "code",
      "source": [
        "from sklearn.datasets import load_iris\n",
        "iris = load_iris()\n",
        "X = iris.data\n",
        "Y = iris.target"
      ],
      "metadata": {
        "id": "mFXGsdWzHsaD"
      },
      "execution_count": 47,
      "outputs": []
    },
    {
      "cell_type": "code",
      "source": [
        "from sklearn.model_selection import train_test_split\n",
        "x_train, x_val, y_train, y_val = train_test_split(X, Y, test_size=0.33, random_state=42)\n",
        "x_val, x_test, y_val, y_test = train_test_split(x_val, y_val, test_size=0.15, random_state=42)"
      ],
      "metadata": {
        "id": "W38SQgp1hfLu"
      },
      "execution_count": 48,
      "outputs": []
    },
    {
      "cell_type": "code",
      "source": [
        "class Data(Dataset):\n",
        "    def __init__(self, X, y):\n",
        "        self.x = torch.from_numpy(X)\n",
        "        self.y = torch.from_numpy(y)\n",
        "        self.len = self.x.shape[0]\n",
        "    def __getitem__(self,index):\n",
        "        return self.x[index], self.y[index]\n",
        "    def __len__(self):\n",
        "        return self.len"
      ],
      "metadata": {
        "id": "6WQ7id9chhMI"
      },
      "execution_count": 49,
      "outputs": []
    },
    {
      "cell_type": "code",
      "source": [
        "train_dataset = Data(x_train, y_train)\n",
        "trainloader = DataLoader(dataset=train_dataset,batch_size=64)\n",
        "val_dataset = Data(x_val, y_val)\n",
        "val_loader = DataLoader(dataset=val_dataset,batch_size=64)\n",
        "test_dataset = Data(x_test, y_test)\n",
        "test_loader = DataLoader(dataset=test_dataset,batch_size=64)"
      ],
      "metadata": {
        "id": "yd24Aj7zhiM-"
      },
      "execution_count": 50,
      "outputs": []
    },
    {
      "cell_type": "code",
      "source": [
        "class Net(nn.Module):\n",
        "    def __init__(self,D_in,H,D_out):\n",
        "        super(Net,self).__init__()\n",
        "        self.linear1=nn.Linear(D_in,H)\n",
        "        self.linear2=nn.Linear(H,D_out)\n",
        "\n",
        "    def forward(self,x):\n",
        "        x = x.type(torch.float32)\n",
        "        x = torch.sigmoid(self.linear1(x))\n",
        "        x = self.linear2(x)\n",
        "        return x\n",
        ""
      ],
      "metadata": {
        "id": "yL28Atv4hjjE"
      },
      "execution_count": 51,
      "outputs": []
    },
    {
      "cell_type": "code",
      "source": [
        "input_dim = 4\n",
        "hidden_dim = 25\n",
        "output_dim = 3\n",
        "model = Net(input_dim,hidden_dim,output_dim)"
      ],
      "metadata": {
        "id": "gLksanLohkk7"
      },
      "execution_count": 52,
      "outputs": []
    },
    {
      "cell_type": "code",
      "source": [
        "device = torch.device(\"cuda\" if torch.cuda.is_available() else \"cpu\")\n",
        "device"
      ],
      "metadata": {
        "id": "0oHy7R_6h47N",
        "outputId": "0378bf13-08db-4022-b4cc-b1eb1082317d",
        "colab": {
          "base_uri": "https://localhost:8080/"
        }
      },
      "execution_count": 53,
      "outputs": [
        {
          "output_type": "execute_result",
          "data": {
            "text/plain": [
              "device(type='cuda')"
            ]
          },
          "metadata": {},
          "execution_count": 53
        }
      ]
    },
    {
      "cell_type": "code",
      "source": [
        "model = Net(input_dim,hidden_dim,output_dim)\n",
        "model.to(device)\n",
        "optimizer = torch.optim.Adam(model.parameters(), lr=1e-3)\n",
        "loss_fn = nn.CrossEntropyLoss()"
      ],
      "metadata": {
        "id": "DuWNbwECh-S6"
      },
      "execution_count": 54,
      "outputs": []
    },
    {
      "cell_type": "code",
      "source": [
        "np.unique(Y)"
      ],
      "metadata": {
        "id": "cXp8JvMDiDH9",
        "outputId": "4f4671fe-55c6-4a52-9905-6d3f92ddcb0e",
        "colab": {
          "base_uri": "https://localhost:8080/"
        }
      },
      "execution_count": 55,
      "outputs": [
        {
          "output_type": "execute_result",
          "data": {
            "text/plain": [
              "array([0, 1, 2])"
            ]
          },
          "metadata": {},
          "execution_count": 55
        }
      ]
    },
    {
      "cell_type": "code",
      "source": [
        "accuracy = Accuracy(task='multiclass', num_classes=3)\n",
        "precision = Precision(task='multiclass', average='macro', num_classes=3)\n",
        "recall = Recall(task='multiclass', average='macro', num_classes=3)\n",
        "f1 = F1Score(task='multiclass', average='macro', num_classes=3)"
      ],
      "metadata": {
        "id": "yvCCvLXYiJHe"
      },
      "execution_count": 56,
      "outputs": []
    },
    {
      "cell_type": "code",
      "source": [
        "num_epochs = 100\n",
        "\n",
        "train_acc_list = []\n",
        "val_acc_list = []\n",
        "train_loss_list = []\n",
        "val_loss_list = []\n",
        "random.seed(42)\n",
        "np.random.seed(42)\n",
        "torch.manual_seed(42)\n",
        "torch.cuda.manual_seed_all(42)\n",
        "# Training and Validation\n",
        "for epoch in range(num_epochs):\n",
        "    model.train()\n",
        "    total_loss = 0\n",
        "    all_preds, all_labels = [], []\n",
        "\n",
        "    for x, y in tqdm(trainloader):\n",
        "        x, y = x.to(device), y.to(device)\n",
        "        optimizer.zero_grad()\n",
        "\n",
        "        y_pred = model(x)\n",
        "        loss = loss_fn(y_pred, y)\n",
        "        loss.backward()\n",
        "        optimizer.step()\n",
        "\n",
        "        total_loss += loss.item()\n",
        "        all_preds.extend(torch.argmax(y_pred, dim=1).cpu().numpy())\n",
        "        all_labels.extend(y.cpu().numpy())\n",
        "\n",
        "    # Training Metrics\n",
        "    all_preds = torch.tensor(all_preds)\n",
        "    all_labels = torch.tensor(all_labels)\n",
        "    train_acc = accuracy(all_preds, all_labels)\n",
        "    train_precision = precision(all_preds, all_labels)\n",
        "    train_recall = recall(all_preds, all_labels)\n",
        "    train_f1 = f1(all_preds, all_labels)\n",
        "    avg_train_loss = total_loss / len(trainloader)\n",
        "\n",
        "    train_acc_list.append(train_acc)\n",
        "    train_loss_list.append(avg_train_loss)\n",
        "\n",
        "    print(f\"Epoch [{epoch+1}/{num_epochs}] - \"\n",
        "          f\"Train Loss: {avg_train_loss:.4f} - \"\n",
        "          f\"Train Acc: {train_acc:.4f} - \"\n",
        "          f\"Train Precision: {train_precision:.4f} - \"\n",
        "          f\"Train Recall: {train_recall:.4f} - \"\n",
        "          f\"Train F1: {train_f1:.4f}\")\n",
        "\n",
        "    # Validation phase\n",
        "    model.eval()\n",
        "    val_total_loss = 0\n",
        "    val_all_preds, val_all_labels = [], []\n",
        "\n",
        "    with torch.no_grad():\n",
        "        for x, y in val_loader:\n",
        "            x, y = x.to(device), y.to(device)\n",
        "            y_pred = model(x)\n",
        "            val_loss = loss_fn(y_pred, y)\n",
        "\n",
        "            val_total_loss += val_loss.item()\n",
        "            val_all_preds.extend(torch.argmax(y_pred, dim=1).cpu().numpy())\n",
        "            val_all_labels.extend(y.cpu().numpy())\n",
        "\n",
        "    # Validation Metrics\n",
        "    val_all_preds = torch.tensor(val_all_preds)\n",
        "    val_all_labels = torch.tensor(val_all_labels)\n",
        "    val_acc = accuracy(val_all_preds, val_all_labels)\n",
        "    val_precision = precision(val_all_preds, val_all_labels)\n",
        "    val_recall = recall(val_all_preds, val_all_labels)\n",
        "    val_f1 = f1(val_all_preds, val_all_labels)\n",
        "    avg_val_loss = val_total_loss / len(val_loader)\n",
        "\n",
        "    val_acc_list.append(val_acc)\n",
        "    val_loss_list.append(avg_val_loss)\n",
        "\n",
        "    # Save weight model for each epochs:\n",
        "    torch.save(model.state_dict(), f'weights_epoch_{epoch+1}.pth')\n",
        "\n",
        "    print(f\"Epoch [{epoch+1}/{num_epochs}] - \"\n",
        "          f\"Val Loss: {avg_val_loss:.4f} - \"\n",
        "          f\"Val Acc: {val_acc:.4f} - \"\n",
        "          f\"Val Precision: {val_precision:.4f} - \"\n",
        "          f\"Val Recall: {val_recall:.4f} - \"\n",
        "          f\"Val F1: {val_f1:.4f}\")\n"
      ],
      "metadata": {
        "id": "-MIxuLsuiLxi",
        "outputId": "f199d93c-ab8c-4723-9c99-50812be24b8f",
        "colab": {
          "base_uri": "https://localhost:8080/"
        }
      },
      "execution_count": 57,
      "outputs": [
        {
          "output_type": "stream",
          "name": "stderr",
          "text": [
            "100%|██████████| 2/2 [00:00<00:00, 363.08it/s]\n"
          ]
        },
        {
          "output_type": "stream",
          "name": "stdout",
          "text": [
            "Epoch [1/100] - Train Loss: 1.1079 - Train Acc: 0.3400 - Train Precision: 0.1133 - Train Recall: 0.3333 - Train F1: 0.1692\n",
            "Epoch [1/100] - Val Loss: 1.0966 - Val Acc: 0.3333 - Val Precision: 0.1111 - Val Recall: 0.3333 - Val F1: 0.1667\n"
          ]
        },
        {
          "output_type": "stream",
          "name": "stderr",
          "text": [
            "100%|██████████| 2/2 [00:00<00:00, 217.90it/s]\n"
          ]
        },
        {
          "output_type": "stream",
          "name": "stdout",
          "text": [
            "Epoch [2/100] - Train Loss: 1.1018 - Train Acc: 0.3400 - Train Precision: 0.1133 - Train Recall: 0.3333 - Train F1: 0.1692\n",
            "Epoch [2/100] - Val Loss: 1.0934 - Val Acc: 0.3333 - Val Precision: 0.1111 - Val Recall: 0.3333 - Val F1: 0.1667\n"
          ]
        },
        {
          "output_type": "stream",
          "name": "stderr",
          "text": [
            "100%|██████████| 2/2 [00:00<00:00, 430.60it/s]\n"
          ]
        },
        {
          "output_type": "stream",
          "name": "stdout",
          "text": [
            "Epoch [3/100] - Train Loss: 1.0964 - Train Acc: 0.3400 - Train Precision: 0.1133 - Train Recall: 0.3333 - Train F1: 0.1692\n",
            "Epoch [3/100] - Val Loss: 1.0909 - Val Acc: 0.3333 - Val Precision: 0.1111 - Val Recall: 0.3333 - Val F1: 0.1667\n"
          ]
        },
        {
          "output_type": "stream",
          "name": "stderr",
          "text": [
            "100%|██████████| 2/2 [00:00<00:00, 328.80it/s]\n"
          ]
        },
        {
          "output_type": "stream",
          "name": "stdout",
          "text": [
            "Epoch [4/100] - Train Loss: 1.0916 - Train Acc: 0.3400 - Train Precision: 0.1133 - Train Recall: 0.3333 - Train F1: 0.1692\n",
            "Epoch [4/100] - Val Loss: 1.0887 - Val Acc: 0.3333 - Val Precision: 0.1111 - Val Recall: 0.3333 - Val F1: 0.1667\n"
          ]
        },
        {
          "output_type": "stream",
          "name": "stderr",
          "text": [
            "100%|██████████| 2/2 [00:00<00:00, 330.36it/s]\n"
          ]
        },
        {
          "output_type": "stream",
          "name": "stdout",
          "text": [
            "Epoch [5/100] - Train Loss: 1.0872 - Train Acc: 0.3400 - Train Precision: 0.1133 - Train Recall: 0.3333 - Train F1: 0.1692\n",
            "Epoch [5/100] - Val Loss: 1.0869 - Val Acc: 0.3333 - Val Precision: 0.1111 - Val Recall: 0.3333 - Val F1: 0.1667\n"
          ]
        },
        {
          "output_type": "stream",
          "name": "stderr",
          "text": [
            "100%|██████████| 2/2 [00:00<00:00, 354.32it/s]\n"
          ]
        },
        {
          "output_type": "stream",
          "name": "stdout",
          "text": [
            "Epoch [6/100] - Train Loss: 1.0833 - Train Acc: 0.3400 - Train Precision: 0.1133 - Train Recall: 0.3333 - Train F1: 0.1692\n",
            "Epoch [6/100] - Val Loss: 1.0854 - Val Acc: 0.3333 - Val Precision: 0.1111 - Val Recall: 0.3333 - Val F1: 0.1667\n"
          ]
        },
        {
          "output_type": "stream",
          "name": "stderr",
          "text": [
            "100%|██████████| 2/2 [00:00<00:00, 367.62it/s]\n"
          ]
        },
        {
          "output_type": "stream",
          "name": "stdout",
          "text": [
            "Epoch [7/100] - Train Loss: 1.0797 - Train Acc: 0.3400 - Train Precision: 0.1133 - Train Recall: 0.3333 - Train F1: 0.1692\n",
            "Epoch [7/100] - Val Loss: 1.0839 - Val Acc: 0.3333 - Val Precision: 0.1111 - Val Recall: 0.3333 - Val F1: 0.1667\n"
          ]
        },
        {
          "output_type": "stream",
          "name": "stderr",
          "text": [
            "100%|██████████| 2/2 [00:00<00:00, 262.00it/s]\n"
          ]
        },
        {
          "output_type": "stream",
          "name": "stdout",
          "text": [
            "Epoch [8/100] - Train Loss: 1.0764 - Train Acc: 0.3400 - Train Precision: 0.1133 - Train Recall: 0.3333 - Train F1: 0.1692\n",
            "Epoch [8/100] - Val Loss: 1.0826 - Val Acc: 0.1905 - Val Precision: 0.0741 - Val Recall: 0.1905 - Val F1: 0.1067\n"
          ]
        },
        {
          "output_type": "stream",
          "name": "stderr",
          "text": [
            "100%|██████████| 2/2 [00:00<00:00, 344.42it/s]\n"
          ]
        },
        {
          "output_type": "stream",
          "name": "stdout",
          "text": [
            "Epoch [9/100] - Train Loss: 1.0734 - Train Acc: 0.1700 - Train Precision: 0.0950 - Train Recall: 0.1661 - Train F1: 0.1123\n",
            "Epoch [9/100] - Val Loss: 1.0813 - Val Acc: 0.1429 - Val Precision: 0.1000 - Val Recall: 0.1667 - Val F1: 0.1250\n"
          ]
        },
        {
          "output_type": "stream",
          "name": "stderr",
          "text": [
            "100%|██████████| 2/2 [00:00<00:00, 329.00it/s]\n"
          ]
        },
        {
          "output_type": "stream",
          "name": "stdout",
          "text": [
            "Epoch [10/100] - Train Loss: 1.0705 - Train Acc: 0.3200 - Train Precision: 0.1616 - Train Recall: 0.3048 - Train F1: 0.2112\n",
            "Epoch [10/100] - Val Loss: 1.0798 - Val Acc: 0.2857 - Val Precision: 0.1538 - Val Recall: 0.3333 - Val F1: 0.2105\n"
          ]
        },
        {
          "output_type": "stream",
          "name": "stderr",
          "text": [
            "100%|██████████| 2/2 [00:00<00:00, 399.08it/s]\n"
          ]
        },
        {
          "output_type": "stream",
          "name": "stdout",
          "text": [
            "Epoch [11/100] - Train Loss: 1.0678 - Train Acc: 0.3500 - Train Precision: 0.1667 - Train Recall: 0.3333 - Train F1: 0.2222\n",
            "Epoch [11/100] - Val Loss: 1.0782 - Val Acc: 0.2857 - Val Precision: 0.1290 - Val Recall: 0.3333 - Val F1: 0.1860\n"
          ]
        },
        {
          "output_type": "stream",
          "name": "stderr",
          "text": [
            "100%|██████████| 2/2 [00:00<00:00, 198.12it/s]\n"
          ]
        },
        {
          "output_type": "stream",
          "name": "stdout",
          "text": [
            "Epoch [12/100] - Train Loss: 1.0651 - Train Acc: 0.3500 - Train Precision: 0.1515 - Train Recall: 0.3333 - Train F1: 0.2083\n",
            "Epoch [12/100] - Val Loss: 1.0764 - Val Acc: 0.2857 - Val Precision: 0.1081 - Val Recall: 0.3333 - Val F1: 0.1633\n"
          ]
        },
        {
          "output_type": "stream",
          "name": "stderr",
          "text": [
            "100%|██████████| 2/2 [00:00<00:00, 391.59it/s]\n"
          ]
        },
        {
          "output_type": "stream",
          "name": "stdout",
          "text": [
            "Epoch [13/100] - Train Loss: 1.0625 - Train Acc: 0.3500 - Train Precision: 0.1203 - Train Recall: 0.3333 - Train F1: 0.1768\n",
            "Epoch [13/100] - Val Loss: 1.0744 - Val Acc: 0.2857 - Val Precision: 0.0976 - Val Recall: 0.3333 - Val F1: 0.1509\n"
          ]
        },
        {
          "output_type": "stream",
          "name": "stderr",
          "text": [
            "100%|██████████| 2/2 [00:00<00:00, 333.25it/s]\n"
          ]
        },
        {
          "output_type": "stream",
          "name": "stdout",
          "text": [
            "Epoch [14/100] - Train Loss: 1.0598 - Train Acc: 0.3500 - Train Precision: 0.1190 - Train Recall: 0.3333 - Train F1: 0.1754\n",
            "Epoch [14/100] - Val Loss: 1.0721 - Val Acc: 0.2857 - Val Precision: 0.0952 - Val Recall: 0.3333 - Val F1: 0.1481\n"
          ]
        },
        {
          "output_type": "stream",
          "name": "stderr",
          "text": [
            "100%|██████████| 2/2 [00:00<00:00, 332.08it/s]\n"
          ]
        },
        {
          "output_type": "stream",
          "name": "stdout",
          "text": [
            "Epoch [15/100] - Train Loss: 1.0572 - Train Acc: 0.3500 - Train Precision: 0.1167 - Train Recall: 0.3333 - Train F1: 0.1728\n",
            "Epoch [15/100] - Val Loss: 1.0696 - Val Acc: 0.2857 - Val Precision: 0.0952 - Val Recall: 0.3333 - Val F1: 0.1481\n"
          ]
        },
        {
          "output_type": "stream",
          "name": "stderr",
          "text": [
            "100%|██████████| 2/2 [00:00<00:00, 325.58it/s]\n"
          ]
        },
        {
          "output_type": "stream",
          "name": "stdout",
          "text": [
            "Epoch [16/100] - Train Loss: 1.0545 - Train Acc: 0.3500 - Train Precision: 0.1167 - Train Recall: 0.3333 - Train F1: 0.1728\n",
            "Epoch [16/100] - Val Loss: 1.0669 - Val Acc: 0.2857 - Val Precision: 0.0952 - Val Recall: 0.3333 - Val F1: 0.1481\n"
          ]
        },
        {
          "output_type": "stream",
          "name": "stderr",
          "text": [
            "100%|██████████| 2/2 [00:00<00:00, 349.12it/s]\n"
          ]
        },
        {
          "output_type": "stream",
          "name": "stdout",
          "text": [
            "Epoch [17/100] - Train Loss: 1.0518 - Train Acc: 0.3500 - Train Precision: 0.1167 - Train Recall: 0.3333 - Train F1: 0.1728\n",
            "Epoch [17/100] - Val Loss: 1.0640 - Val Acc: 0.2857 - Val Precision: 0.0952 - Val Recall: 0.3333 - Val F1: 0.1481\n"
          ]
        },
        {
          "output_type": "stream",
          "name": "stderr",
          "text": [
            "100%|██████████| 2/2 [00:00<00:00, 396.34it/s]\n"
          ]
        },
        {
          "output_type": "stream",
          "name": "stdout",
          "text": [
            "Epoch [18/100] - Train Loss: 1.0490 - Train Acc: 0.3500 - Train Precision: 0.1167 - Train Recall: 0.3333 - Train F1: 0.1728\n",
            "Epoch [18/100] - Val Loss: 1.0609 - Val Acc: 0.2857 - Val Precision: 0.0952 - Val Recall: 0.3333 - Val F1: 0.1481\n"
          ]
        },
        {
          "output_type": "stream",
          "name": "stderr",
          "text": [
            "100%|██████████| 2/2 [00:00<00:00, 414.48it/s]\n"
          ]
        },
        {
          "output_type": "stream",
          "name": "stdout",
          "text": [
            "Epoch [19/100] - Train Loss: 1.0463 - Train Acc: 0.3500 - Train Precision: 0.1167 - Train Recall: 0.3333 - Train F1: 0.1728\n",
            "Epoch [19/100] - Val Loss: 1.0576 - Val Acc: 0.2857 - Val Precision: 0.0952 - Val Recall: 0.3333 - Val F1: 0.1481\n"
          ]
        },
        {
          "output_type": "stream",
          "name": "stderr",
          "text": [
            "100%|██████████| 2/2 [00:00<00:00, 406.11it/s]\n"
          ]
        },
        {
          "output_type": "stream",
          "name": "stdout",
          "text": [
            "Epoch [20/100] - Train Loss: 1.0435 - Train Acc: 0.3500 - Train Precision: 0.1167 - Train Recall: 0.3333 - Train F1: 0.1728\n",
            "Epoch [20/100] - Val Loss: 1.0542 - Val Acc: 0.2857 - Val Precision: 0.0952 - Val Recall: 0.3333 - Val F1: 0.1481\n"
          ]
        },
        {
          "output_type": "stream",
          "name": "stderr",
          "text": [
            "100%|██████████| 2/2 [00:00<00:00, 360.32it/s]\n"
          ]
        },
        {
          "output_type": "stream",
          "name": "stdout",
          "text": [
            "Epoch [21/100] - Train Loss: 1.0406 - Train Acc: 0.3500 - Train Precision: 0.1167 - Train Recall: 0.3333 - Train F1: 0.1728\n",
            "Epoch [21/100] - Val Loss: 1.0508 - Val Acc: 0.2857 - Val Precision: 0.0952 - Val Recall: 0.3333 - Val F1: 0.1481\n"
          ]
        },
        {
          "output_type": "stream",
          "name": "stderr",
          "text": [
            "100%|██████████| 2/2 [00:00<00:00, 348.83it/s]"
          ]
        },
        {
          "output_type": "stream",
          "name": "stdout",
          "text": [
            "Epoch [22/100] - Train Loss: 1.0378 - Train Acc: 0.3500 - Train Precision: 0.1167 - Train Recall: 0.3333 - Train F1: 0.1728\n"
          ]
        },
        {
          "output_type": "stream",
          "name": "stderr",
          "text": [
            "\n"
          ]
        },
        {
          "output_type": "stream",
          "name": "stdout",
          "text": [
            "Epoch [22/100] - Val Loss: 1.0472 - Val Acc: 0.2857 - Val Precision: 0.0952 - Val Recall: 0.3333 - Val F1: 0.1481\n"
          ]
        },
        {
          "output_type": "stream",
          "name": "stderr",
          "text": [
            "100%|██████████| 2/2 [00:00<00:00, 319.02it/s]\n"
          ]
        },
        {
          "output_type": "stream",
          "name": "stdout",
          "text": [
            "Epoch [23/100] - Train Loss: 1.0349 - Train Acc: 0.3500 - Train Precision: 0.1167 - Train Recall: 0.3333 - Train F1: 0.1728\n",
            "Epoch [23/100] - Val Loss: 1.0436 - Val Acc: 0.2857 - Val Precision: 0.0952 - Val Recall: 0.3333 - Val F1: 0.1481\n"
          ]
        },
        {
          "output_type": "stream",
          "name": "stderr",
          "text": [
            "100%|██████████| 2/2 [00:00<00:00, 341.63it/s]\n"
          ]
        },
        {
          "output_type": "stream",
          "name": "stdout",
          "text": [
            "Epoch [24/100] - Train Loss: 1.0320 - Train Acc: 0.3600 - Train Precision: 0.4512 - Train Recall: 0.3441 - Train F1: 0.1950\n",
            "Epoch [24/100] - Val Loss: 1.0399 - Val Acc: 0.3095 - Val Precision: 0.4309 - Val Recall: 0.3571 - Val F1: 0.1954\n"
          ]
        },
        {
          "output_type": "stream",
          "name": "stderr",
          "text": [
            "100%|██████████| 2/2 [00:00<00:00, 305.82it/s]\n"
          ]
        },
        {
          "output_type": "stream",
          "name": "stdout",
          "text": [
            "Epoch [25/100] - Train Loss: 1.0290 - Train Acc: 0.3500 - Train Precision: 0.4490 - Train Recall: 0.3346 - Train F1: 0.1913\n",
            "Epoch [25/100] - Val Loss: 1.0362 - Val Acc: 0.3095 - Val Precision: 0.5940 - Val Recall: 0.3502 - Val F1: 0.2247\n"
          ]
        },
        {
          "output_type": "stream",
          "name": "stderr",
          "text": [
            "100%|██████████| 2/2 [00:00<00:00, 387.20it/s]\n"
          ]
        },
        {
          "output_type": "stream",
          "name": "stdout",
          "text": [
            "Epoch [26/100] - Train Loss: 1.0260 - Train Acc: 0.4500 - Train Precision: 0.7279 - Train Recall: 0.4357 - Train F1: 0.3792\n",
            "Epoch [26/100] - Val Loss: 1.0324 - Val Acc: 0.3810 - Val Precision: 0.6176 - Val Recall: 0.4077 - Val F1: 0.3686\n"
          ]
        },
        {
          "output_type": "stream",
          "name": "stderr",
          "text": [
            "100%|██████████| 2/2 [00:00<00:00, 369.82it/s]\n"
          ]
        },
        {
          "output_type": "stream",
          "name": "stdout",
          "text": [
            "Epoch [27/100] - Train Loss: 1.0230 - Train Acc: 0.5400 - Train Precision: 0.7249 - Train Recall: 0.5312 - Train F1: 0.5260\n",
            "Epoch [27/100] - Val Loss: 1.0286 - Val Acc: 0.5000 - Val Precision: 0.6166 - Val Recall: 0.5040 - Val F1: 0.5156\n"
          ]
        },
        {
          "output_type": "stream",
          "name": "stderr",
          "text": [
            "100%|██████████| 2/2 [00:00<00:00, 338.46it/s]\n"
          ]
        },
        {
          "output_type": "stream",
          "name": "stdout",
          "text": [
            "Epoch [28/100] - Train Loss: 1.0200 - Train Acc: 0.6700 - Train Precision: 0.7523 - Train Recall: 0.6687 - Train F1: 0.6805\n",
            "Epoch [28/100] - Val Loss: 1.0248 - Val Acc: 0.6429 - Val Precision: 0.6757 - Val Recall: 0.6349 - Val F1: 0.6442\n"
          ]
        },
        {
          "output_type": "stream",
          "name": "stderr",
          "text": [
            "100%|██████████| 2/2 [00:00<00:00, 128.67it/s]\n"
          ]
        },
        {
          "output_type": "stream",
          "name": "stdout",
          "text": [
            "Epoch [29/100] - Train Loss: 1.0169 - Train Acc: 0.7400 - Train Precision: 0.7899 - Train Recall: 0.7401 - Train F1: 0.7506\n",
            "Epoch [29/100] - Val Loss: 1.0209 - Val Acc: 0.7619 - Val Precision: 0.7490 - Val Recall: 0.7411 - Val F1: 0.7410\n"
          ]
        },
        {
          "output_type": "stream",
          "name": "stderr",
          "text": [
            "100%|██████████| 2/2 [00:00<00:00, 227.30it/s]\n"
          ]
        },
        {
          "output_type": "stream",
          "name": "stdout",
          "text": [
            "Epoch [30/100] - Train Loss: 1.0138 - Train Acc: 0.7500 - Train Precision: 0.7852 - Train Recall: 0.7515 - Train F1: 0.7614\n",
            "Epoch [30/100] - Val Loss: 1.0171 - Val Acc: 0.7619 - Val Precision: 0.7522 - Val Recall: 0.7371 - Val F1: 0.7317\n"
          ]
        },
        {
          "output_type": "stream",
          "name": "stderr",
          "text": [
            "100%|██████████| 2/2 [00:00<00:00, 209.70it/s]\n"
          ]
        },
        {
          "output_type": "stream",
          "name": "stdout",
          "text": [
            "Epoch [31/100] - Train Loss: 1.0106 - Train Acc: 0.7800 - Train Precision: 0.7980 - Train Recall: 0.7840 - Train F1: 0.7894\n",
            "Epoch [31/100] - Val Loss: 1.0132 - Val Acc: 0.7857 - Val Precision: 0.7820 - Val Recall: 0.7579 - Val F1: 0.7512\n"
          ]
        },
        {
          "output_type": "stream",
          "name": "stderr",
          "text": [
            "100%|██████████| 2/2 [00:00<00:00, 211.08it/s]\n"
          ]
        },
        {
          "output_type": "stream",
          "name": "stdout",
          "text": [
            "Epoch [32/100] - Train Loss: 1.0074 - Train Acc: 0.8200 - Train Precision: 0.8286 - Train Recall: 0.8251 - Train F1: 0.8267\n",
            "Epoch [32/100] - Val Loss: 1.0093 - Val Acc: 0.7857 - Val Precision: 0.7820 - Val Recall: 0.7579 - Val F1: 0.7512\n"
          ]
        },
        {
          "output_type": "stream",
          "name": "stderr",
          "text": [
            "100%|██████████| 2/2 [00:00<00:00, 342.15it/s]\n"
          ]
        },
        {
          "output_type": "stream",
          "name": "stdout",
          "text": [
            "Epoch [33/100] - Train Loss: 1.0041 - Train Acc: 0.8300 - Train Precision: 0.8359 - Train Recall: 0.8359 - Train F1: 0.8357\n",
            "Epoch [33/100] - Val Loss: 1.0053 - Val Acc: 0.7857 - Val Precision: 0.7820 - Val Recall: 0.7579 - Val F1: 0.7512\n"
          ]
        },
        {
          "output_type": "stream",
          "name": "stderr",
          "text": [
            "100%|██████████| 2/2 [00:00<00:00, 272.03it/s]\n"
          ]
        },
        {
          "output_type": "stream",
          "name": "stdout",
          "text": [
            "Epoch [34/100] - Train Loss: 1.0008 - Train Acc: 0.8400 - Train Precision: 0.8460 - Train Recall: 0.8457 - Train F1: 0.8454\n",
            "Epoch [34/100] - Val Loss: 1.0013 - Val Acc: 0.8095 - Val Precision: 0.8056 - Val Recall: 0.7857 - Val F1: 0.7833\n"
          ]
        },
        {
          "output_type": "stream",
          "name": "stderr",
          "text": [
            "100%|██████████| 2/2 [00:00<00:00, 326.21it/s]\n"
          ]
        },
        {
          "output_type": "stream",
          "name": "stdout",
          "text": [
            "Epoch [35/100] - Train Loss: 0.9975 - Train Acc: 0.8500 - Train Precision: 0.8552 - Train Recall: 0.8549 - Train F1: 0.8550\n",
            "Epoch [35/100] - Val Loss: 0.9973 - Val Acc: 0.8333 - Val Precision: 0.8279 - Val Recall: 0.8135 - Val F1: 0.8136\n"
          ]
        },
        {
          "output_type": "stream",
          "name": "stderr",
          "text": [
            "100%|██████████| 2/2 [00:00<00:00, 296.94it/s]\n"
          ]
        },
        {
          "output_type": "stream",
          "name": "stdout",
          "text": [
            "Epoch [36/100] - Train Loss: 0.9941 - Train Acc: 0.8500 - Train Precision: 0.8565 - Train Recall: 0.8546 - Train F1: 0.8546\n",
            "Epoch [36/100] - Val Loss: 0.9933 - Val Acc: 0.8333 - Val Precision: 0.8279 - Val Recall: 0.8135 - Val F1: 0.8136\n"
          ]
        },
        {
          "output_type": "stream",
          "name": "stderr",
          "text": [
            "100%|██████████| 2/2 [00:00<00:00, 342.95it/s]"
          ]
        },
        {
          "output_type": "stream",
          "name": "stdout",
          "text": [
            "Epoch [37/100] - Train Loss: 0.9907 - Train Acc: 0.8500 - Train Precision: 0.8565 - Train Recall: 0.8546 - Train F1: 0.8546\n"
          ]
        },
        {
          "output_type": "stream",
          "name": "stderr",
          "text": [
            "\n"
          ]
        },
        {
          "output_type": "stream",
          "name": "stdout",
          "text": [
            "Epoch [37/100] - Val Loss: 0.9891 - Val Acc: 0.8333 - Val Precision: 0.8279 - Val Recall: 0.8135 - Val F1: 0.8136\n"
          ]
        },
        {
          "output_type": "stream",
          "name": "stderr",
          "text": [
            "100%|██████████| 2/2 [00:00<00:00, 298.63it/s]\n"
          ]
        },
        {
          "output_type": "stream",
          "name": "stdout",
          "text": [
            "Epoch [38/100] - Train Loss: 0.9872 - Train Acc: 0.8600 - Train Precision: 0.8675 - Train Recall: 0.8641 - Train F1: 0.8640\n",
            "Epoch [38/100] - Val Loss: 0.9850 - Val Acc: 0.8333 - Val Precision: 0.8279 - Val Recall: 0.8135 - Val F1: 0.8136\n"
          ]
        },
        {
          "output_type": "stream",
          "name": "stderr",
          "text": [
            "100%|██████████| 2/2 [00:00<00:00, 326.16it/s]\n"
          ]
        },
        {
          "output_type": "stream",
          "name": "stdout",
          "text": [
            "Epoch [39/100] - Train Loss: 0.9837 - Train Acc: 0.8600 - Train Precision: 0.8675 - Train Recall: 0.8641 - Train F1: 0.8640\n",
            "Epoch [39/100] - Val Loss: 0.9808 - Val Acc: 0.8333 - Val Precision: 0.8279 - Val Recall: 0.8135 - Val F1: 0.8136\n"
          ]
        },
        {
          "output_type": "stream",
          "name": "stderr",
          "text": [
            "100%|██████████| 2/2 [00:00<00:00, 331.53it/s]\n"
          ]
        },
        {
          "output_type": "stream",
          "name": "stdout",
          "text": [
            "Epoch [40/100] - Train Loss: 0.9801 - Train Acc: 0.8700 - Train Precision: 0.8761 - Train Recall: 0.8739 - Train F1: 0.8740\n",
            "Epoch [40/100] - Val Loss: 0.9765 - Val Acc: 0.8333 - Val Precision: 0.8279 - Val Recall: 0.8135 - Val F1: 0.8136\n"
          ]
        },
        {
          "output_type": "stream",
          "name": "stderr",
          "text": [
            "100%|██████████| 2/2 [00:00<00:00, 252.06it/s]\n"
          ]
        },
        {
          "output_type": "stream",
          "name": "stdout",
          "text": [
            "Epoch [41/100] - Train Loss: 0.9765 - Train Acc: 0.8700 - Train Precision: 0.8761 - Train Recall: 0.8739 - Train F1: 0.8740\n",
            "Epoch [41/100] - Val Loss: 0.9722 - Val Acc: 0.8333 - Val Precision: 0.8279 - Val Recall: 0.8135 - Val F1: 0.8136\n"
          ]
        },
        {
          "output_type": "stream",
          "name": "stderr",
          "text": [
            "100%|██████████| 2/2 [00:00<00:00, 341.53it/s]\n"
          ]
        },
        {
          "output_type": "stream",
          "name": "stdout",
          "text": [
            "Epoch [42/100] - Train Loss: 0.9729 - Train Acc: 0.8700 - Train Precision: 0.8761 - Train Recall: 0.8739 - Train F1: 0.8740\n",
            "Epoch [42/100] - Val Loss: 0.9678 - Val Acc: 0.8571 - Val Precision: 0.8657 - Val Recall: 0.8373 - Val F1: 0.8375\n"
          ]
        },
        {
          "output_type": "stream",
          "name": "stderr",
          "text": [
            "100%|██████████| 2/2 [00:00<00:00, 258.87it/s]"
          ]
        },
        {
          "output_type": "stream",
          "name": "stdout",
          "text": [
            "Epoch [43/100] - Train Loss: 0.9692 - Train Acc: 0.8700 - Train Precision: 0.8761 - Train Recall: 0.8739 - Train F1: 0.8740\n"
          ]
        },
        {
          "output_type": "stream",
          "name": "stderr",
          "text": [
            "\n"
          ]
        },
        {
          "output_type": "stream",
          "name": "stdout",
          "text": [
            "Epoch [43/100] - Val Loss: 0.9634 - Val Acc: 0.8571 - Val Precision: 0.8657 - Val Recall: 0.8373 - Val F1: 0.8375\n"
          ]
        },
        {
          "output_type": "stream",
          "name": "stderr",
          "text": [
            "100%|██████████| 2/2 [00:00<00:00, 254.13it/s]\n"
          ]
        },
        {
          "output_type": "stream",
          "name": "stdout",
          "text": [
            "Epoch [44/100] - Train Loss: 0.9654 - Train Acc: 0.8700 - Train Precision: 0.8746 - Train Recall: 0.8742 - Train F1: 0.8743\n",
            "Epoch [44/100] - Val Loss: 0.9589 - Val Acc: 0.8571 - Val Precision: 0.8657 - Val Recall: 0.8373 - Val F1: 0.8375\n"
          ]
        },
        {
          "output_type": "stream",
          "name": "stderr",
          "text": [
            "100%|██████████| 2/2 [00:00<00:00, 273.82it/s]\n"
          ]
        },
        {
          "output_type": "stream",
          "name": "stdout",
          "text": [
            "Epoch [45/100] - Train Loss: 0.9616 - Train Acc: 0.8800 - Train Precision: 0.8847 - Train Recall: 0.8843 - Train F1: 0.8840\n",
            "Epoch [45/100] - Val Loss: 0.9544 - Val Acc: 0.8810 - Val Precision: 0.9123 - Val Recall: 0.8611 - Val F1: 0.8618\n"
          ]
        },
        {
          "output_type": "stream",
          "name": "stderr",
          "text": [
            "100%|██████████| 2/2 [00:00<00:00, 211.79it/s]\n"
          ]
        },
        {
          "output_type": "stream",
          "name": "stdout",
          "text": [
            "Epoch [46/100] - Train Loss: 0.9578 - Train Acc: 0.8800 - Train Precision: 0.8868 - Train Recall: 0.8846 - Train F1: 0.8838\n",
            "Epoch [46/100] - Val Loss: 0.9498 - Val Acc: 0.8810 - Val Precision: 0.9123 - Val Recall: 0.8611 - Val F1: 0.8618\n"
          ]
        },
        {
          "output_type": "stream",
          "name": "stderr",
          "text": [
            "100%|██████████| 2/2 [00:00<00:00, 189.47it/s]\n"
          ]
        },
        {
          "output_type": "stream",
          "name": "stdout",
          "text": [
            "Epoch [47/100] - Train Loss: 0.9539 - Train Acc: 0.8800 - Train Precision: 0.8868 - Train Recall: 0.8846 - Train F1: 0.8838\n",
            "Epoch [47/100] - Val Loss: 0.9451 - Val Acc: 0.8810 - Val Precision: 0.9123 - Val Recall: 0.8611 - Val F1: 0.8618\n"
          ]
        },
        {
          "output_type": "stream",
          "name": "stderr",
          "text": [
            "100%|██████████| 2/2 [00:00<00:00, 356.67it/s]\n"
          ]
        },
        {
          "output_type": "stream",
          "name": "stdout",
          "text": [
            "Epoch [48/100] - Train Loss: 0.9500 - Train Acc: 0.8700 - Train Precision: 0.8786 - Train Recall: 0.8751 - Train F1: 0.8740\n",
            "Epoch [48/100] - Val Loss: 0.9404 - Val Acc: 0.8810 - Val Precision: 0.9123 - Val Recall: 0.8611 - Val F1: 0.8618\n"
          ]
        },
        {
          "output_type": "stream",
          "name": "stderr",
          "text": [
            "100%|██████████| 2/2 [00:00<00:00, 213.62it/s]\n"
          ]
        },
        {
          "output_type": "stream",
          "name": "stdout",
          "text": [
            "Epoch [49/100] - Train Loss: 0.9460 - Train Acc: 0.8800 - Train Precision: 0.8959 - Train Recall: 0.8852 - Train F1: 0.8829\n",
            "Epoch [49/100] - Val Loss: 0.9357 - Val Acc: 0.8571 - Val Precision: 0.9000 - Val Recall: 0.8333 - Val F1: 0.8301\n"
          ]
        },
        {
          "output_type": "stream",
          "name": "stderr",
          "text": [
            "100%|██████████| 2/2 [00:00<00:00, 208.37it/s]\n"
          ]
        },
        {
          "output_type": "stream",
          "name": "stdout",
          "text": [
            "Epoch [50/100] - Train Loss: 0.9420 - Train Acc: 0.8800 - Train Precision: 0.8959 - Train Recall: 0.8852 - Train F1: 0.8829\n",
            "Epoch [50/100] - Val Loss: 0.9309 - Val Acc: 0.8333 - Val Precision: 0.8889 - Val Recall: 0.8056 - Val F1: 0.7961\n"
          ]
        },
        {
          "output_type": "stream",
          "name": "stderr",
          "text": [
            "100%|██████████| 2/2 [00:00<00:00, 123.30it/s]\n"
          ]
        },
        {
          "output_type": "stream",
          "name": "stdout",
          "text": [
            "Epoch [51/100] - Train Loss: 0.9379 - Train Acc: 0.8800 - Train Precision: 0.8959 - Train Recall: 0.8852 - Train F1: 0.8829\n",
            "Epoch [51/100] - Val Loss: 0.9260 - Val Acc: 0.8333 - Val Precision: 0.8889 - Val Recall: 0.8056 - Val F1: 0.7961\n"
          ]
        },
        {
          "output_type": "stream",
          "name": "stderr",
          "text": [
            "100%|██████████| 2/2 [00:00<00:00, 108.86it/s]\n"
          ]
        },
        {
          "output_type": "stream",
          "name": "stdout",
          "text": [
            "Epoch [52/100] - Train Loss: 0.9338 - Train Acc: 0.8900 - Train Precision: 0.9097 - Train Recall: 0.8950 - Train F1: 0.8923\n",
            "Epoch [52/100] - Val Loss: 0.9211 - Val Acc: 0.8333 - Val Precision: 0.8889 - Val Recall: 0.8056 - Val F1: 0.7961\n"
          ]
        },
        {
          "output_type": "stream",
          "name": "stderr",
          "text": [
            "100%|██████████| 2/2 [00:00<00:00, 124.87it/s]\n"
          ]
        },
        {
          "output_type": "stream",
          "name": "stdout",
          "text": [
            "Epoch [53/100] - Train Loss: 0.9296 - Train Acc: 0.8900 - Train Precision: 0.9097 - Train Recall: 0.8950 - Train F1: 0.8923\n",
            "Epoch [53/100] - Val Loss: 0.9161 - Val Acc: 0.8095 - Val Precision: 0.8788 - Val Recall: 0.7778 - Val F1: 0.7593\n"
          ]
        },
        {
          "output_type": "stream",
          "name": "stderr",
          "text": [
            "100%|██████████| 2/2 [00:00<00:00, 96.75it/s]"
          ]
        },
        {
          "output_type": "stream",
          "name": "stdout",
          "text": [
            "Epoch [54/100] - Train Loss: 0.9254 - Train Acc: 0.8900 - Train Precision: 0.9097 - Train Recall: 0.8950 - Train F1: 0.8923\n"
          ]
        },
        {
          "output_type": "stream",
          "name": "stderr",
          "text": [
            "\n"
          ]
        },
        {
          "output_type": "stream",
          "name": "stdout",
          "text": [
            "Epoch [54/100] - Val Loss: 0.9112 - Val Acc: 0.8095 - Val Precision: 0.8788 - Val Recall: 0.7778 - Val F1: 0.7593\n"
          ]
        },
        {
          "output_type": "stream",
          "name": "stderr",
          "text": [
            "100%|██████████| 2/2 [00:00<00:00, 200.16it/s]\n"
          ]
        },
        {
          "output_type": "stream",
          "name": "stdout",
          "text": [
            "Epoch [55/100] - Train Loss: 0.9212 - Train Acc: 0.8900 - Train Precision: 0.9097 - Train Recall: 0.8950 - Train F1: 0.8923\n",
            "Epoch [55/100] - Val Loss: 0.9061 - Val Acc: 0.8095 - Val Precision: 0.8788 - Val Recall: 0.7778 - Val F1: 0.7593\n"
          ]
        },
        {
          "output_type": "stream",
          "name": "stderr",
          "text": [
            "100%|██████████| 2/2 [00:00<00:00, 286.76it/s]\n"
          ]
        },
        {
          "output_type": "stream",
          "name": "stdout",
          "text": [
            "Epoch [56/100] - Train Loss: 0.9169 - Train Acc: 0.8900 - Train Precision: 0.9097 - Train Recall: 0.8950 - Train F1: 0.8923\n",
            "Epoch [56/100] - Val Loss: 0.9010 - Val Acc: 0.8095 - Val Precision: 0.8788 - Val Recall: 0.7778 - Val F1: 0.7593\n"
          ]
        },
        {
          "output_type": "stream",
          "name": "stderr",
          "text": [
            "100%|██████████| 2/2 [00:00<00:00, 226.76it/s]\n"
          ]
        },
        {
          "output_type": "stream",
          "name": "stdout",
          "text": [
            "Epoch [57/100] - Train Loss: 0.9126 - Train Acc: 0.8900 - Train Precision: 0.9097 - Train Recall: 0.8950 - Train F1: 0.8923\n",
            "Epoch [57/100] - Val Loss: 0.8959 - Val Acc: 0.8095 - Val Precision: 0.8788 - Val Recall: 0.7778 - Val F1: 0.7593\n"
          ]
        },
        {
          "output_type": "stream",
          "name": "stderr",
          "text": [
            "100%|██████████| 2/2 [00:00<00:00, 185.44it/s]\n"
          ]
        },
        {
          "output_type": "stream",
          "name": "stdout",
          "text": [
            "Epoch [58/100] - Train Loss: 0.9083 - Train Acc: 0.8900 - Train Precision: 0.9097 - Train Recall: 0.8950 - Train F1: 0.8923\n",
            "Epoch [58/100] - Val Loss: 0.8907 - Val Acc: 0.8095 - Val Precision: 0.8788 - Val Recall: 0.7778 - Val F1: 0.7593\n"
          ]
        },
        {
          "output_type": "stream",
          "name": "stderr",
          "text": [
            "100%|██████████| 2/2 [00:00<00:00, 204.69it/s]"
          ]
        },
        {
          "output_type": "stream",
          "name": "stdout",
          "text": [
            "Epoch [59/100] - Train Loss: 0.9039 - Train Acc: 0.8900 - Train Precision: 0.9097 - Train Recall: 0.8950 - Train F1: 0.8923\n"
          ]
        },
        {
          "output_type": "stream",
          "name": "stderr",
          "text": [
            "\n"
          ]
        },
        {
          "output_type": "stream",
          "name": "stdout",
          "text": [
            "Epoch [59/100] - Val Loss: 0.8855 - Val Acc: 0.8095 - Val Precision: 0.8788 - Val Recall: 0.7778 - Val F1: 0.7593\n"
          ]
        },
        {
          "output_type": "stream",
          "name": "stderr",
          "text": [
            "100%|██████████| 2/2 [00:00<00:00, 171.93it/s]\n"
          ]
        },
        {
          "output_type": "stream",
          "name": "stdout",
          "text": [
            "Epoch [60/100] - Train Loss: 0.8995 - Train Acc: 0.8900 - Train Precision: 0.9097 - Train Recall: 0.8950 - Train F1: 0.8923\n",
            "Epoch [60/100] - Val Loss: 0.8803 - Val Acc: 0.8095 - Val Precision: 0.8788 - Val Recall: 0.7778 - Val F1: 0.7593\n"
          ]
        },
        {
          "output_type": "stream",
          "name": "stderr",
          "text": [
            "100%|██████████| 2/2 [00:00<00:00, 196.79it/s]\n"
          ]
        },
        {
          "output_type": "stream",
          "name": "stdout",
          "text": [
            "Epoch [61/100] - Train Loss: 0.8950 - Train Acc: 0.8900 - Train Precision: 0.9097 - Train Recall: 0.8950 - Train F1: 0.8923\n",
            "Epoch [61/100] - Val Loss: 0.8751 - Val Acc: 0.8095 - Val Precision: 0.8788 - Val Recall: 0.7778 - Val F1: 0.7593\n"
          ]
        },
        {
          "output_type": "stream",
          "name": "stderr",
          "text": [
            "100%|██████████| 2/2 [00:00<00:00, 165.64it/s]\n"
          ]
        },
        {
          "output_type": "stream",
          "name": "stdout",
          "text": [
            "Epoch [62/100] - Train Loss: 0.8905 - Train Acc: 0.8900 - Train Precision: 0.9097 - Train Recall: 0.8950 - Train F1: 0.8923\n",
            "Epoch [62/100] - Val Loss: 0.8698 - Val Acc: 0.8095 - Val Precision: 0.8788 - Val Recall: 0.7778 - Val F1: 0.7593\n"
          ]
        },
        {
          "output_type": "stream",
          "name": "stderr",
          "text": [
            "100%|██████████| 2/2 [00:00<00:00, 215.09it/s]\n"
          ]
        },
        {
          "output_type": "stream",
          "name": "stdout",
          "text": [
            "Epoch [63/100] - Train Loss: 0.8860 - Train Acc: 0.8800 - Train Precision: 0.9033 - Train Recall: 0.8854 - Train F1: 0.8821\n",
            "Epoch [63/100] - Val Loss: 0.8644 - Val Acc: 0.8095 - Val Precision: 0.8788 - Val Recall: 0.7778 - Val F1: 0.7593\n"
          ]
        },
        {
          "output_type": "stream",
          "name": "stderr",
          "text": [
            "100%|██████████| 2/2 [00:00<00:00, 264.38it/s]\n"
          ]
        },
        {
          "output_type": "stream",
          "name": "stdout",
          "text": [
            "Epoch [64/100] - Train Loss: 0.8814 - Train Acc: 0.8800 - Train Precision: 0.9033 - Train Recall: 0.8854 - Train F1: 0.8821\n",
            "Epoch [64/100] - Val Loss: 0.8591 - Val Acc: 0.8095 - Val Precision: 0.8788 - Val Recall: 0.7778 - Val F1: 0.7593\n"
          ]
        },
        {
          "output_type": "stream",
          "name": "stderr",
          "text": [
            "100%|██████████| 2/2 [00:00<00:00, 249.59it/s]\n"
          ]
        },
        {
          "output_type": "stream",
          "name": "stdout",
          "text": [
            "Epoch [65/100] - Train Loss: 0.8769 - Train Acc: 0.8800 - Train Precision: 0.9033 - Train Recall: 0.8854 - Train F1: 0.8821\n",
            "Epoch [65/100] - Val Loss: 0.8537 - Val Acc: 0.8095 - Val Precision: 0.8788 - Val Recall: 0.7778 - Val F1: 0.7593\n"
          ]
        },
        {
          "output_type": "stream",
          "name": "stderr",
          "text": [
            "100%|██████████| 2/2 [00:00<00:00, 196.06it/s]\n"
          ]
        },
        {
          "output_type": "stream",
          "name": "stdout",
          "text": [
            "Epoch [66/100] - Train Loss: 0.8723 - Train Acc: 0.8800 - Train Precision: 0.9033 - Train Recall: 0.8854 - Train F1: 0.8821\n",
            "Epoch [66/100] - Val Loss: 0.8483 - Val Acc: 0.8095 - Val Precision: 0.8788 - Val Recall: 0.7778 - Val F1: 0.7593\n"
          ]
        },
        {
          "output_type": "stream",
          "name": "stderr",
          "text": [
            "100%|██████████| 2/2 [00:00<00:00, 188.98it/s]\n"
          ]
        },
        {
          "output_type": "stream",
          "name": "stdout",
          "text": [
            "Epoch [67/100] - Train Loss: 0.8677 - Train Acc: 0.8800 - Train Precision: 0.9033 - Train Recall: 0.8854 - Train F1: 0.8821\n",
            "Epoch [67/100] - Val Loss: 0.8429 - Val Acc: 0.7857 - Val Precision: 0.8696 - Val Recall: 0.7500 - Val F1: 0.7189\n"
          ]
        },
        {
          "output_type": "stream",
          "name": "stderr",
          "text": [
            "100%|██████████| 2/2 [00:00<00:00, 199.32it/s]\n"
          ]
        },
        {
          "output_type": "stream",
          "name": "stdout",
          "text": [
            "Epoch [68/100] - Train Loss: 0.8630 - Train Acc: 0.8700 - Train Precision: 0.8972 - Train Recall: 0.8759 - Train F1: 0.8717\n",
            "Epoch [68/100] - Val Loss: 0.8375 - Val Acc: 0.7857 - Val Precision: 0.8696 - Val Recall: 0.7500 - Val F1: 0.7189\n"
          ]
        },
        {
          "output_type": "stream",
          "name": "stderr",
          "text": [
            "100%|██████████| 2/2 [00:00<00:00, 243.02it/s]\n"
          ]
        },
        {
          "output_type": "stream",
          "name": "stdout",
          "text": [
            "Epoch [69/100] - Train Loss: 0.8583 - Train Acc: 0.8700 - Train Precision: 0.8972 - Train Recall: 0.8759 - Train F1: 0.8717\n",
            "Epoch [69/100] - Val Loss: 0.8320 - Val Acc: 0.7857 - Val Precision: 0.8696 - Val Recall: 0.7500 - Val F1: 0.7189\n"
          ]
        },
        {
          "output_type": "stream",
          "name": "stderr",
          "text": [
            "100%|██████████| 2/2 [00:00<00:00, 173.35it/s]"
          ]
        },
        {
          "output_type": "stream",
          "name": "stdout",
          "text": [
            "Epoch [70/100] - Train Loss: 0.8537 - Train Acc: 0.8700 - Train Precision: 0.8972 - Train Recall: 0.8759 - Train F1: 0.8717\n"
          ]
        },
        {
          "output_type": "stream",
          "name": "stderr",
          "text": [
            "\n"
          ]
        },
        {
          "output_type": "stream",
          "name": "stdout",
          "text": [
            "Epoch [70/100] - Val Loss: 0.8266 - Val Acc: 0.7857 - Val Precision: 0.8696 - Val Recall: 0.7500 - Val F1: 0.7189\n"
          ]
        },
        {
          "output_type": "stream",
          "name": "stderr",
          "text": [
            "100%|██████████| 2/2 [00:00<00:00, 193.67it/s]\n"
          ]
        },
        {
          "output_type": "stream",
          "name": "stdout",
          "text": [
            "Epoch [71/100] - Train Loss: 0.8490 - Train Acc: 0.8800 - Train Precision: 0.9130 - Train Recall: 0.8857 - Train F1: 0.8810\n",
            "Epoch [71/100] - Val Loss: 0.8211 - Val Acc: 0.7857 - Val Precision: 0.8696 - Val Recall: 0.7500 - Val F1: 0.7189\n"
          ]
        },
        {
          "output_type": "stream",
          "name": "stderr",
          "text": [
            "100%|██████████| 2/2 [00:00<00:00, 202.39it/s]\n"
          ]
        },
        {
          "output_type": "stream",
          "name": "stdout",
          "text": [
            "Epoch [72/100] - Train Loss: 0.8443 - Train Acc: 0.8800 - Train Precision: 0.9130 - Train Recall: 0.8857 - Train F1: 0.8810\n",
            "Epoch [72/100] - Val Loss: 0.8156 - Val Acc: 0.7857 - Val Precision: 0.8696 - Val Recall: 0.7500 - Val F1: 0.7189\n"
          ]
        },
        {
          "output_type": "stream",
          "name": "stderr",
          "text": [
            "100%|██████████| 2/2 [00:00<00:00, 218.84it/s]\n"
          ]
        },
        {
          "output_type": "stream",
          "name": "stdout",
          "text": [
            "Epoch [73/100] - Train Loss: 0.8395 - Train Acc: 0.8800 - Train Precision: 0.9130 - Train Recall: 0.8857 - Train F1: 0.8810\n",
            "Epoch [73/100] - Val Loss: 0.8101 - Val Acc: 0.7857 - Val Precision: 0.8696 - Val Recall: 0.7500 - Val F1: 0.7189\n"
          ]
        },
        {
          "output_type": "stream",
          "name": "stderr",
          "text": [
            "100%|██████████| 2/2 [00:00<00:00, 188.27it/s]\n"
          ]
        },
        {
          "output_type": "stream",
          "name": "stdout",
          "text": [
            "Epoch [74/100] - Train Loss: 0.8348 - Train Acc: 0.8800 - Train Precision: 0.9130 - Train Recall: 0.8857 - Train F1: 0.8810\n",
            "Epoch [74/100] - Val Loss: 0.8047 - Val Acc: 0.7857 - Val Precision: 0.8696 - Val Recall: 0.7500 - Val F1: 0.7189\n"
          ]
        },
        {
          "output_type": "stream",
          "name": "stderr",
          "text": [
            "100%|██████████| 2/2 [00:00<00:00, 141.71it/s]\n"
          ]
        },
        {
          "output_type": "stream",
          "name": "stdout",
          "text": [
            "Epoch [75/100] - Train Loss: 0.8301 - Train Acc: 0.8800 - Train Precision: 0.9130 - Train Recall: 0.8857 - Train F1: 0.8810\n",
            "Epoch [75/100] - Val Loss: 0.7992 - Val Acc: 0.7857 - Val Precision: 0.8696 - Val Recall: 0.7500 - Val F1: 0.7189\n"
          ]
        },
        {
          "output_type": "stream",
          "name": "stderr",
          "text": [
            "100%|██████████| 2/2 [00:00<00:00, 228.82it/s]\n"
          ]
        },
        {
          "output_type": "stream",
          "name": "stdout",
          "text": [
            "Epoch [76/100] - Train Loss: 0.8253 - Train Acc: 0.8800 - Train Precision: 0.9130 - Train Recall: 0.8857 - Train F1: 0.8810\n",
            "Epoch [76/100] - Val Loss: 0.7937 - Val Acc: 0.7857 - Val Precision: 0.8696 - Val Recall: 0.7500 - Val F1: 0.7189\n"
          ]
        },
        {
          "output_type": "stream",
          "name": "stderr",
          "text": [
            "100%|██████████| 2/2 [00:00<00:00, 193.25it/s]\n"
          ]
        },
        {
          "output_type": "stream",
          "name": "stdout",
          "text": [
            "Epoch [77/100] - Train Loss: 0.8206 - Train Acc: 0.8800 - Train Precision: 0.9130 - Train Recall: 0.8857 - Train F1: 0.8810\n",
            "Epoch [77/100] - Val Loss: 0.7882 - Val Acc: 0.7857 - Val Precision: 0.8696 - Val Recall: 0.7500 - Val F1: 0.7189\n"
          ]
        },
        {
          "output_type": "stream",
          "name": "stderr",
          "text": [
            "100%|██████████| 2/2 [00:00<00:00, 160.04it/s]\n"
          ]
        },
        {
          "output_type": "stream",
          "name": "stdout",
          "text": [
            "Epoch [78/100] - Train Loss: 0.8158 - Train Acc: 0.8800 - Train Precision: 0.9130 - Train Recall: 0.8857 - Train F1: 0.8810\n",
            "Epoch [78/100] - Val Loss: 0.7827 - Val Acc: 0.7857 - Val Precision: 0.8696 - Val Recall: 0.7500 - Val F1: 0.7189\n"
          ]
        },
        {
          "output_type": "stream",
          "name": "stderr",
          "text": [
            "100%|██████████| 2/2 [00:00<00:00, 233.12it/s]\n"
          ]
        },
        {
          "output_type": "stream",
          "name": "stdout",
          "text": [
            "Epoch [79/100] - Train Loss: 0.8110 - Train Acc: 0.8800 - Train Precision: 0.9130 - Train Recall: 0.8857 - Train F1: 0.8810\n",
            "Epoch [79/100] - Val Loss: 0.7773 - Val Acc: 0.7857 - Val Precision: 0.8696 - Val Recall: 0.7500 - Val F1: 0.7189\n"
          ]
        },
        {
          "output_type": "stream",
          "name": "stderr",
          "text": [
            "100%|██████████| 2/2 [00:00<00:00, 147.20it/s]\n"
          ]
        },
        {
          "output_type": "stream",
          "name": "stdout",
          "text": [
            "Epoch [80/100] - Train Loss: 0.8063 - Train Acc: 0.8800 - Train Precision: 0.9130 - Train Recall: 0.8857 - Train F1: 0.8810\n",
            "Epoch [80/100] - Val Loss: 0.7718 - Val Acc: 0.7857 - Val Precision: 0.8696 - Val Recall: 0.7500 - Val F1: 0.7189\n"
          ]
        },
        {
          "output_type": "stream",
          "name": "stderr",
          "text": [
            "100%|██████████| 2/2 [00:00<00:00, 196.82it/s]\n"
          ]
        },
        {
          "output_type": "stream",
          "name": "stdout",
          "text": [
            "Epoch [81/100] - Train Loss: 0.8015 - Train Acc: 0.8800 - Train Precision: 0.9130 - Train Recall: 0.8857 - Train F1: 0.8810\n",
            "Epoch [81/100] - Val Loss: 0.7664 - Val Acc: 0.7857 - Val Precision: 0.8696 - Val Recall: 0.7500 - Val F1: 0.7189\n"
          ]
        },
        {
          "output_type": "stream",
          "name": "stderr",
          "text": [
            "100%|██████████| 2/2 [00:00<00:00, 165.16it/s]\n"
          ]
        },
        {
          "output_type": "stream",
          "name": "stdout",
          "text": [
            "Epoch [82/100] - Train Loss: 0.7968 - Train Acc: 0.8800 - Train Precision: 0.9130 - Train Recall: 0.8857 - Train F1: 0.8810\n",
            "Epoch [82/100] - Val Loss: 0.7610 - Val Acc: 0.7857 - Val Precision: 0.8696 - Val Recall: 0.7500 - Val F1: 0.7189\n"
          ]
        },
        {
          "output_type": "stream",
          "name": "stderr",
          "text": [
            "100%|██████████| 2/2 [00:00<00:00, 256.96it/s]\n"
          ]
        },
        {
          "output_type": "stream",
          "name": "stdout",
          "text": [
            "Epoch [83/100] - Train Loss: 0.7921 - Train Acc: 0.8800 - Train Precision: 0.9130 - Train Recall: 0.8857 - Train F1: 0.8810\n",
            "Epoch [83/100] - Val Loss: 0.7556 - Val Acc: 0.8095 - Val Precision: 0.8788 - Val Recall: 0.7778 - Val F1: 0.7593\n"
          ]
        },
        {
          "output_type": "stream",
          "name": "stderr",
          "text": [
            "100%|██████████| 2/2 [00:00<00:00, 224.21it/s]\n"
          ]
        },
        {
          "output_type": "stream",
          "name": "stdout",
          "text": [
            "Epoch [84/100] - Train Loss: 0.7873 - Train Acc: 0.8800 - Train Precision: 0.9130 - Train Recall: 0.8857 - Train F1: 0.8810\n",
            "Epoch [84/100] - Val Loss: 0.7503 - Val Acc: 0.8095 - Val Precision: 0.8788 - Val Recall: 0.7778 - Val F1: 0.7593\n"
          ]
        },
        {
          "output_type": "stream",
          "name": "stderr",
          "text": [
            "100%|██████████| 2/2 [00:00<00:00, 90.53it/s]\n"
          ]
        },
        {
          "output_type": "stream",
          "name": "stdout",
          "text": [
            "Epoch [85/100] - Train Loss: 0.7826 - Train Acc: 0.8800 - Train Precision: 0.9130 - Train Recall: 0.8857 - Train F1: 0.8810\n",
            "Epoch [85/100] - Val Loss: 0.7449 - Val Acc: 0.8095 - Val Precision: 0.8788 - Val Recall: 0.7778 - Val F1: 0.7593\n"
          ]
        },
        {
          "output_type": "stream",
          "name": "stderr",
          "text": [
            "100%|██████████| 2/2 [00:00<00:00, 78.30it/s]\n"
          ]
        },
        {
          "output_type": "stream",
          "name": "stdout",
          "text": [
            "Epoch [86/100] - Train Loss: 0.7779 - Train Acc: 0.8800 - Train Precision: 0.9130 - Train Recall: 0.8857 - Train F1: 0.8810\n",
            "Epoch [86/100] - Val Loss: 0.7396 - Val Acc: 0.8095 - Val Precision: 0.8788 - Val Recall: 0.7778 - Val F1: 0.7593\n"
          ]
        },
        {
          "output_type": "stream",
          "name": "stderr",
          "text": [
            "100%|██████████| 2/2 [00:00<00:00, 114.81it/s]\n"
          ]
        },
        {
          "output_type": "stream",
          "name": "stdout",
          "text": [
            "Epoch [87/100] - Train Loss: 0.7733 - Train Acc: 0.8800 - Train Precision: 0.9130 - Train Recall: 0.8857 - Train F1: 0.8810\n",
            "Epoch [87/100] - Val Loss: 0.7343 - Val Acc: 0.8095 - Val Precision: 0.8788 - Val Recall: 0.7778 - Val F1: 0.7593\n"
          ]
        },
        {
          "output_type": "stream",
          "name": "stderr",
          "text": [
            "100%|██████████| 2/2 [00:00<00:00, 148.49it/s]"
          ]
        },
        {
          "output_type": "stream",
          "name": "stdout",
          "text": [
            "Epoch [88/100] - Train Loss: 0.7686 - Train Acc: 0.8800 - Train Precision: 0.9130 - Train Recall: 0.8857 - Train F1: 0.8810"
          ]
        },
        {
          "output_type": "stream",
          "name": "stderr",
          "text": [
            "\n"
          ]
        },
        {
          "output_type": "stream",
          "name": "stdout",
          "text": [
            "\n",
            "Epoch [88/100] - Val Loss: 0.7291 - Val Acc: 0.8095 - Val Precision: 0.8788 - Val Recall: 0.7778 - Val F1: 0.7593\n"
          ]
        },
        {
          "output_type": "stream",
          "name": "stderr",
          "text": [
            "100%|██████████| 2/2 [00:00<00:00, 98.28it/s]\n"
          ]
        },
        {
          "output_type": "stream",
          "name": "stdout",
          "text": [
            "Epoch [89/100] - Train Loss: 0.7640 - Train Acc: 0.8800 - Train Precision: 0.9130 - Train Recall: 0.8857 - Train F1: 0.8810\n",
            "Epoch [89/100] - Val Loss: 0.7239 - Val Acc: 0.8095 - Val Precision: 0.8788 - Val Recall: 0.7778 - Val F1: 0.7593\n"
          ]
        },
        {
          "output_type": "stream",
          "name": "stderr",
          "text": [
            "100%|██████████| 2/2 [00:00<00:00, 236.53it/s]\n"
          ]
        },
        {
          "output_type": "stream",
          "name": "stdout",
          "text": [
            "Epoch [90/100] - Train Loss: 0.7593 - Train Acc: 0.8800 - Train Precision: 0.9130 - Train Recall: 0.8857 - Train F1: 0.8810\n",
            "Epoch [90/100] - Val Loss: 0.7187 - Val Acc: 0.8095 - Val Precision: 0.8788 - Val Recall: 0.7778 - Val F1: 0.7593\n"
          ]
        },
        {
          "output_type": "stream",
          "name": "stderr",
          "text": [
            "100%|██████████| 2/2 [00:00<00:00, 218.84it/s]"
          ]
        },
        {
          "output_type": "stream",
          "name": "stdout",
          "text": [
            "Epoch [91/100] - Train Loss: 0.7548 - Train Acc: 0.8800 - Train Precision: 0.9130 - Train Recall: 0.8857 - Train F1: 0.8810\n"
          ]
        },
        {
          "output_type": "stream",
          "name": "stderr",
          "text": [
            "\n"
          ]
        },
        {
          "output_type": "stream",
          "name": "stdout",
          "text": [
            "Epoch [91/100] - Val Loss: 0.7136 - Val Acc: 0.8095 - Val Precision: 0.8788 - Val Recall: 0.7778 - Val F1: 0.7593\n"
          ]
        },
        {
          "output_type": "stream",
          "name": "stderr",
          "text": [
            "100%|██████████| 2/2 [00:00<00:00, 199.57it/s]\n"
          ]
        },
        {
          "output_type": "stream",
          "name": "stdout",
          "text": [
            "Epoch [92/100] - Train Loss: 0.7502 - Train Acc: 0.8800 - Train Precision: 0.9130 - Train Recall: 0.8857 - Train F1: 0.8810\n",
            "Epoch [92/100] - Val Loss: 0.7085 - Val Acc: 0.8095 - Val Precision: 0.8788 - Val Recall: 0.7778 - Val F1: 0.7593\n"
          ]
        },
        {
          "output_type": "stream",
          "name": "stderr",
          "text": [
            "100%|██████████| 2/2 [00:00<00:00, 289.94it/s]\n"
          ]
        },
        {
          "output_type": "stream",
          "name": "stdout",
          "text": [
            "Epoch [93/100] - Train Loss: 0.7456 - Train Acc: 0.8800 - Train Precision: 0.9130 - Train Recall: 0.8857 - Train F1: 0.8810\n",
            "Epoch [93/100] - Val Loss: 0.7034 - Val Acc: 0.8095 - Val Precision: 0.8788 - Val Recall: 0.7778 - Val F1: 0.7593\n"
          ]
        },
        {
          "output_type": "stream",
          "name": "stderr",
          "text": [
            "100%|██████████| 2/2 [00:00<00:00, 264.61it/s]\n"
          ]
        },
        {
          "output_type": "stream",
          "name": "stdout",
          "text": [
            "Epoch [94/100] - Train Loss: 0.7411 - Train Acc: 0.8800 - Train Precision: 0.9130 - Train Recall: 0.8857 - Train F1: 0.8810\n",
            "Epoch [94/100] - Val Loss: 0.6984 - Val Acc: 0.8095 - Val Precision: 0.8788 - Val Recall: 0.7778 - Val F1: 0.7593\n"
          ]
        },
        {
          "output_type": "stream",
          "name": "stderr",
          "text": [
            "100%|██████████| 2/2 [00:00<00:00, 182.79it/s]\n"
          ]
        },
        {
          "output_type": "stream",
          "name": "stdout",
          "text": [
            "Epoch [95/100] - Train Loss: 0.7366 - Train Acc: 0.8800 - Train Precision: 0.9130 - Train Recall: 0.8857 - Train F1: 0.8810\n",
            "Epoch [95/100] - Val Loss: 0.6934 - Val Acc: 0.8095 - Val Precision: 0.8788 - Val Recall: 0.7778 - Val F1: 0.7593\n"
          ]
        },
        {
          "output_type": "stream",
          "name": "stderr",
          "text": [
            "100%|██████████| 2/2 [00:00<00:00, 103.14it/s]\n"
          ]
        },
        {
          "output_type": "stream",
          "name": "stdout",
          "text": [
            "Epoch [96/100] - Train Loss: 0.7322 - Train Acc: 0.8800 - Train Precision: 0.9130 - Train Recall: 0.8857 - Train F1: 0.8810\n",
            "Epoch [96/100] - Val Loss: 0.6885 - Val Acc: 0.8095 - Val Precision: 0.8788 - Val Recall: 0.7778 - Val F1: 0.7593\n"
          ]
        },
        {
          "output_type": "stream",
          "name": "stderr",
          "text": [
            "100%|██████████| 2/2 [00:00<00:00, 153.21it/s]\n"
          ]
        },
        {
          "output_type": "stream",
          "name": "stdout",
          "text": [
            "Epoch [97/100] - Train Loss: 0.7278 - Train Acc: 0.8900 - Train Precision: 0.9185 - Train Recall: 0.8952 - Train F1: 0.8914\n",
            "Epoch [97/100] - Val Loss: 0.6836 - Val Acc: 0.8095 - Val Precision: 0.8788 - Val Recall: 0.7778 - Val F1: 0.7593\n"
          ]
        },
        {
          "output_type": "stream",
          "name": "stderr",
          "text": [
            "100%|██████████| 2/2 [00:00<00:00, 136.54it/s]\n"
          ]
        },
        {
          "output_type": "stream",
          "name": "stdout",
          "text": [
            "Epoch [98/100] - Train Loss: 0.7234 - Train Acc: 0.8900 - Train Precision: 0.9185 - Train Recall: 0.8952 - Train F1: 0.8914\n",
            "Epoch [98/100] - Val Loss: 0.6788 - Val Acc: 0.8095 - Val Precision: 0.8788 - Val Recall: 0.7778 - Val F1: 0.7593\n"
          ]
        },
        {
          "output_type": "stream",
          "name": "stderr",
          "text": [
            "100%|██████████| 2/2 [00:00<00:00, 128.34it/s]\n"
          ]
        },
        {
          "output_type": "stream",
          "name": "stdout",
          "text": [
            "Epoch [99/100] - Train Loss: 0.7190 - Train Acc: 0.8900 - Train Precision: 0.9185 - Train Recall: 0.8952 - Train F1: 0.8914\n",
            "Epoch [99/100] - Val Loss: 0.6740 - Val Acc: 0.8095 - Val Precision: 0.8788 - Val Recall: 0.7778 - Val F1: 0.7593\n"
          ]
        },
        {
          "output_type": "stream",
          "name": "stderr",
          "text": [
            "100%|██████████| 2/2 [00:00<00:00, 186.17it/s]\n"
          ]
        },
        {
          "output_type": "stream",
          "name": "stdout",
          "text": [
            "Epoch [100/100] - Train Loss: 0.7147 - Train Acc: 0.8900 - Train Precision: 0.9185 - Train Recall: 0.8952 - Train F1: 0.8914\n",
            "Epoch [100/100] - Val Loss: 0.6693 - Val Acc: 0.8333 - Val Precision: 0.8889 - Val Recall: 0.8056 - Val F1: 0.7961\n"
          ]
        }
      ]
    },
    {
      "cell_type": "code",
      "source": [
        "plt.figure(figsize=(10, 6))\n",
        "plt.plot(range(1, num_epochs + 1), train_acc_list, label='Train Accuracy')\n",
        "plt.plot(range(1, num_epochs + 1), val_acc_list, label='Validation Accuracy')\n",
        "plt.xlabel('Epoch')\n",
        "plt.ylabel('Accuracy')\n",
        "plt.title('Training and Validation Accuracy')\n",
        "plt.legend()\n",
        "plt.show()\n",
        ""
      ],
      "metadata": {
        "id": "Xao1_MNr96O6",
        "outputId": "7ad45fdd-a767-48c1-ac76-d848956391d0",
        "colab": {
          "base_uri": "https://localhost:8080/",
          "height": 564
        }
      },
      "execution_count": 58,
      "outputs": [
        {
          "output_type": "display_data",
          "data": {
            "text/plain": [
              "<Figure size 1000x600 with 1 Axes>"
            ],
            "image/png": "[encoded data removed]"
          },
          "metadata": {}
        }
      ]
    },
    {
      "cell_type": "markdown",
      "source": [
        "Chọn epoch=60"
      ],
      "metadata": {
        "id": "tIwIpjq8-lpi"
      }
    },
    {
      "cell_type": "code",
      "source": [
        "all_test_labels, all_test_preds = [], []\n",
        "\n",
        "model = Net(input_dim, hidden_dim, output_dim).to(device)\n",
        "\n",
        "selected_epoch = 60\n",
        "model.load_state_dict(torch.load(f'weights_epoch_{selected_epoch}.pth'))\n",
        "\n",
        "with torch.no_grad():\n",
        "    for x, y in test_loader:\n",
        "        x, y = x.to(device), y.to(device)\n",
        "        outputs = model(x)\n",
        "        _, preds = torch.max(outputs, 1)\n",
        "\n",
        "        all_test_labels.extend(y.cpu().numpy())\n",
        "        all_test_preds.extend(preds.cpu().numpy())\n",
        "\n",
        "# Generate classification report\n",
        "print(classification_report(all_test_labels, all_test_preds, target_names= iris.target_names))"
      ],
      "metadata": {
        "id": "UoKszZdg-jeV",
        "outputId": "8c6d25f0-365d-4917-da6c-2d883365eefb",
        "colab": {
          "base_uri": "https://localhost:8080/"
        }
      },
      "execution_count": 59,
      "outputs": [
        {
          "output_type": "stream",
          "name": "stdout",
          "text": [
            "              precision    recall  f1-score   support\n",
            "\n",
            "      setosa       1.00      1.00      1.00         3\n",
            "  versicolor       1.00      0.67      0.80         3\n",
            "   virginica       0.67      1.00      0.80         2\n",
            "\n",
            "    accuracy                           0.88         8\n",
            "   macro avg       0.89      0.89      0.87         8\n",
            "weighted avg       0.92      0.88      0.88         8\n",
            "\n"
          ]
        },
        {
          "output_type": "stream",
          "name": "stderr",
          "text": [
            "<ipython-input-59-89393f490889>:6: FutureWarning: You are using `torch.load` with `weights_only=False` (the current default value), which uses the default pickle module implicitly. It is possible to construct malicious pickle data which will execute arbitrary code during unpickling (See https://github.com/pytorch/pytorch/blob/main/SECURITY.md#untrusted-models for more details). In a future release, the default value for `weights_only` will be flipped to `True`. This limits the functions that could be executed during unpickling. Arbitrary objects will no longer be allowed to be loaded via this mode unless they are explicitly allowlisted by the user via `torch.serialization.add_safe_globals`. We recommend you start setting `weights_only=True` for any use case where you don't have full control of the loaded file. Please open an issue on GitHub for any issues related to this experimental feature.\n",
            "  model.load_state_dict(torch.load(f'weights_epoch_{selected_epoch}.pth'))\n"
          ]
        }
      ]
    }
  ],
  "metadata": {
    "colab": {
      "name": "Colaboratory chào mừng bạn!",
      "toc_visible": true,
      "provenance": [],
      "gpuType": "T4"
    },
    "kernelspec": {
      "display_name": "Python 3",
      "name": "python3"
    },
    "accelerator": "GPU"
  },
  "nbformat": 4,
  "nbformat_minor": 0
}